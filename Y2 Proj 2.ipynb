{
 "cells": [
  {
   "cell_type": "code",
   "execution_count": 1,
   "metadata": {},
   "outputs": [],
   "source": [
    "%config InlineBackend.figure_format = 'retina'\n",
    "%matplotlib inline\n",
    "\n",
    "import matplotlib.pyplot as plt\n",
    "import numpy as np\n",
    "import pandas as pd\n",
    "from scipy.optimize import curve_fit\n",
    "plt.rcParams.update({'font.size':16})"
   ]
  },
  {
   "cell_type": "markdown",
   "metadata": {},
   "source": [
    "## Diffraction Grating Spacing Calculation ##"
   ]
  },
  {
   "cell_type": "code",
   "execution_count": 2,
   "metadata": {},
   "outputs": [
    {
     "data": {
      "text/plain": [
       "0.13611150000000194"
      ]
     },
     "execution_count": 2,
     "metadata": {},
     "output_type": "execute_result"
    }
   ],
   "source": [
    "#offset calculation \n",
    "theta = (20.894444 + 21.166667)/2\n",
    "offset = 21.166667 - theta\n",
    "offset"
   ]
  },
  {
   "cell_type": "code",
   "execution_count": 3,
   "metadata": {},
   "outputs": [],
   "source": [
    "#errors in line measurements\n",
    "e_n1r = 0.5/60\n",
    "e_n1l = 1/60\n",
    "\n",
    "e_n2r = 0.5/60\n",
    "e_n2l = 1/60"
   ]
  },
  {
   "cell_type": "code",
   "execution_count": 4,
   "metadata": {},
   "outputs": [],
   "source": [
    "#calculating distance between lines with accepted wavelength values and measured angles\n",
    "N1r = 5889.95e-10/(np.sin(np.radians(20.894444))+ np.sin(np.radians(offset)))\n",
    "N2r = 5895.924e-10/(np.sin(np.radians(20.916667))+ np.sin(np.radians(offset)))\n",
    "\n",
    "e_N1r = 1/(np.sin(np.radians(20.894444+e_n1r))-np.sin(np.radians(20.894444)))\n",
    "e_N2r = 1/(np.sin(np.radians(20.916667+e_n2r))-np.sin(np.radians(20.916667)))"
   ]
  },
  {
   "cell_type": "code",
   "execution_count": 5,
   "metadata": {},
   "outputs": [],
   "source": [
    "##calculating lines per mm\n",
    "d = ((N1r + N2r)/2)**-1/1000\n",
    "e_d = ((e_N1r + e_N2r)/2)**-1/1000"
   ]
  },
  {
   "cell_type": "code",
   "execution_count": 6,
   "metadata": {},
   "outputs": [
    {
     "data": {
      "text/plain": [
       "609.5503228635721"
      ]
     },
     "execution_count": 6,
     "metadata": {},
     "output_type": "execute_result"
    }
   ],
   "source": [
    "d"
   ]
  },
  {
   "cell_type": "code",
   "execution_count": 7,
   "metadata": {},
   "outputs": [
    {
     "data": {
      "text/plain": [
       "1.358657235353544e-07"
      ]
     },
     "execution_count": 7,
     "metadata": {},
     "output_type": "execute_result"
    }
   ],
   "source": [
    "e_d"
   ]
  },
  {
   "cell_type": "markdown",
   "metadata": {},
   "source": [
    "## Rydberg Constant For Hydrogen ##"
   ]
  },
  {
   "cell_type": "code",
   "execution_count": 8,
   "metadata": {},
   "outputs": [],
   "source": [
    "H_df = pd.DataFrame({'n': [3, 4, 5], 'H_line': ['H_a', 'H_b', 'H_c'], 'primaryr': [23+29/90, 17+23/180, 15.5+1/60], 'primaryl': [360-(336+43/180), 360-(342+2/3), 360-(344+53/90)], 'secondaryr': [51+71/180, 35+43/60, 31+31/90], 'secondaryl': [360-(305+1/6), 360-(323+1/60), 360-(327+28/45)]})"
   ]
  },
  {
   "cell_type": "code",
   "execution_count": 9,
   "metadata": {},
   "outputs": [],
   "source": [
    "#errors in values\n",
    "e_hcpr = 2/60\n",
    "e_hcpl = 1/60\n",
    "e_hbpr = 2/60\n",
    "e_hbpl = 0.5/60\n",
    "e_hapr = 2/60\n",
    "e_hapl = 1/60\n",
    "\n",
    "e_hcsr = 1/60\n",
    "e_hcsl = 2/60\n",
    "e_hbsr = 0.5/60\n",
    "e_hbsl = 2/60\n",
    "e_hasr = 4/60\n",
    "e_hasl = 0.5/60"
   ]
  },
  {
   "cell_type": "code",
   "execution_count": 10,
   "metadata": {},
   "outputs": [],
   "source": [
    "#finding average angles with offset\n",
    "def avg(x, y):\n",
    "    return (x + y)/2\n",
    "\n",
    "def offset(x, y):\n",
    "    a = (x - y)/2\n",
    "    offset = y - a\n",
    "    return (x + offset)/2\n",
    "\n",
    "H_df['prim_a'] = offset(H_df['primaryr'], H_df['primaryl'])\n",
    "H_df['sec_a'] = offset(H_df['secondaryr'], H_df['secondaryl'])\n",
    "\n",
    "e_hcp = avg(e_hcpr, e_hcpl)\n",
    "e_hbp = avg(e_hbpr, e_hbpl)\n",
    "e_hap = avg(e_hapr, e_hapl)\n",
    "\n",
    "e_hcs = avg(e_hcsr, e_hcsl)\n",
    "e_hbs = avg(e_hbsr, e_hbsl)\n",
    "e_has = avg(e_hasr, e_hasl)"
   ]
  },
  {
   "cell_type": "code",
   "execution_count": 11,
   "metadata": {},
   "outputs": [],
   "source": [
    "#converting angles to wavelengths\n",
    "def wavelength(d, t, n):\n",
    "    return d*np.sin(np.radians(t))/n\n",
    "\n",
    "H_df['lambdap'] = wavelength(1/(d*1000), H_df['prim_a'], 1)\n",
    "H_df['lambdas'] = wavelength(1/(d*1000), H_df['sec_a'], 2)\n",
    "\n",
    "#errors done by taking largest value andtaking value with no error away\n",
    "e_lhap = wavelength(1/((d-e_d)*1000), 23.541667+e_hap, 1)-wavelength(1/(d*1000), 23.541667, 1)\n",
    "e_lhbp = wavelength(1/((d-e_d)*1000), 17.230556+e_hbp, 1)-wavelength(1/(d*1000), 17.230556, 1)\n",
    "e_lhcp = wavelength(1/((d-e_d)*1000), 15.463889+e_hcp, 1)-wavelength(1/(d*1000), 15.463889, 1)\n",
    "\n",
    "e_lhas = wavelength(1/((d-e_d)*1000), 53.113889+e_has, 1)-wavelength(1/(d*1000), 53.113889, 1)\n",
    "e_lhbs = wavelength(1/((d-e_d)*1000), 36.350000+e_hbs, 1)-wavelength(1/(d*1000), 36.350000, 1)\n",
    "e_lhcs = wavelength(1/((d-e_d)*1000), 31.861111+e_hcs, 1)-wavelength(1/(d*1000), 31.861111, 1)"
   ]
  },
  {
   "cell_type": "code",
   "execution_count": 12,
   "metadata": {},
   "outputs": [],
   "source": [
    "#finding average wavelengths\n",
    "H_df['lambda'] = (H_df['lambdap'] + H_df['lambdas'])/2\n",
    "\n",
    "e_lha = (e_lhap + e_lhas)/2\n",
    "e_lhb = (e_lhbp + e_lhbs)/2\n",
    "e_lhc = (e_lhcp + e_lhcs)/2"
   ]
  },
  {
   "cell_type": "code",
   "execution_count": 13,
   "metadata": {},
   "outputs": [],
   "source": [
    "#converting wavelength to rydberg constant\n",
    "def ryd(n_i, n_f, l):\n",
    "    a = 1/(n_f**2) - 1/(n_i**2)\n",
    "    return 1/(a*l)\n",
    "\n",
    "H_df['R_value'] = ryd(H_df['n'], 2, H_df['lambda'])\n",
    "\n",
    "e_hra = ryd(3, 2, 6.556727e-07-e_lha)-ryd(3, 2, 6.556727e-07)\n",
    "e_hrb = ryd(4, 2, 4.860760e-07-e_lhb)-ryd(4, 2, 4.860760e-07)\n",
    "e_hrc = ryd(5, 2, 4.352077e-07-e_lhc)-ryd(5, 2, 4.352077e-07)"
   ]
  },
  {
   "cell_type": "code",
   "execution_count": 14,
   "metadata": {},
   "outputs": [],
   "source": [
    "#find average rydberg\n",
    "R_H = (1.098109e+07 + 1.097222e+07 + 1.094168e+07)/3\n",
    "\n",
    "e_hr = (e_hra + e_hrb + e_hrc)/3"
   ]
  },
  {
   "cell_type": "code",
   "execution_count": 15,
   "metadata": {},
   "outputs": [
    {
     "data": {
      "text/plain": [
       "10964996.666666666"
      ]
     },
     "execution_count": 15,
     "metadata": {},
     "output_type": "execute_result"
    }
   ],
   "source": [
    "R_H"
   ]
  },
  {
   "cell_type": "code",
   "execution_count": 16,
   "metadata": {},
   "outputs": [
    {
     "data": {
      "text/plain": [
       "13034.347244870538"
      ]
     },
     "execution_count": 16,
     "metadata": {},
     "output_type": "execute_result"
    }
   ],
   "source": [
    "e_hr"
   ]
  },
  {
   "cell_type": "code",
   "execution_count": 17,
   "metadata": {},
   "outputs": [
    {
     "data": {
      "text/html": [
       "<div>\n",
       "<style scoped>\n",
       "    .dataframe tbody tr th:only-of-type {\n",
       "        vertical-align: middle;\n",
       "    }\n",
       "\n",
       "    .dataframe tbody tr th {\n",
       "        vertical-align: top;\n",
       "    }\n",
       "\n",
       "    .dataframe thead th {\n",
       "        text-align: right;\n",
       "    }\n",
       "</style>\n",
       "<table border=\"1\" class=\"dataframe\">\n",
       "  <thead>\n",
       "    <tr style=\"text-align: right;\">\n",
       "      <th></th>\n",
       "      <th>n</th>\n",
       "      <th>H_line</th>\n",
       "      <th>primaryr</th>\n",
       "      <th>primaryl</th>\n",
       "      <th>secondaryr</th>\n",
       "      <th>secondaryl</th>\n",
       "      <th>prim_a</th>\n",
       "      <th>sec_a</th>\n",
       "      <th>lambdap</th>\n",
       "      <th>lambdas</th>\n",
       "      <th>lambda</th>\n",
       "      <th>R_value</th>\n",
       "    </tr>\n",
       "  </thead>\n",
       "  <tbody>\n",
       "    <tr>\n",
       "      <th>0</th>\n",
       "      <td>3</td>\n",
       "      <td>H_a</td>\n",
       "      <td>23.322222</td>\n",
       "      <td>23.761111</td>\n",
       "      <td>51.394444</td>\n",
       "      <td>54.833333</td>\n",
       "      <td>23.651389</td>\n",
       "      <td>53.973611</td>\n",
       "      <td>6.581422e-07</td>\n",
       "      <td>6.633958e-07</td>\n",
       "      <td>6.607690e-07</td>\n",
       "      <td>1.089640e+07</td>\n",
       "    </tr>\n",
       "    <tr>\n",
       "      <th>1</th>\n",
       "      <td>4</td>\n",
       "      <td>H_b</td>\n",
       "      <td>17.127778</td>\n",
       "      <td>17.333333</td>\n",
       "      <td>35.716667</td>\n",
       "      <td>36.983333</td>\n",
       "      <td>17.281944</td>\n",
       "      <td>36.666667</td>\n",
       "      <td>4.873658e-07</td>\n",
       "      <td>4.898354e-07</td>\n",
       "      <td>4.886006e-07</td>\n",
       "      <td>1.091553e+07</td>\n",
       "    </tr>\n",
       "    <tr>\n",
       "      <th>2</th>\n",
       "      <td>5</td>\n",
       "      <td>H_c</td>\n",
       "      <td>15.516667</td>\n",
       "      <td>15.411111</td>\n",
       "      <td>31.344444</td>\n",
       "      <td>32.377778</td>\n",
       "      <td>15.437500</td>\n",
       "      <td>32.119444</td>\n",
       "      <td>4.366941e-07</td>\n",
       "      <td>4.361297e-07</td>\n",
       "      <td>4.364119e-07</td>\n",
       "      <td>1.091149e+07</td>\n",
       "    </tr>\n",
       "  </tbody>\n",
       "</table>\n",
       "</div>"
      ],
      "text/plain": [
       "   n H_line   primaryr   primaryl  secondaryr  secondaryl     prim_a  \\\n",
       "0  3    H_a  23.322222  23.761111   51.394444   54.833333  23.651389   \n",
       "1  4    H_b  17.127778  17.333333   35.716667   36.983333  17.281944   \n",
       "2  5    H_c  15.516667  15.411111   31.344444   32.377778  15.437500   \n",
       "\n",
       "       sec_a       lambdap       lambdas        lambda       R_value  \n",
       "0  53.973611  6.581422e-07  6.633958e-07  6.607690e-07  1.089640e+07  \n",
       "1  36.666667  4.873658e-07  4.898354e-07  4.886006e-07  1.091553e+07  \n",
       "2  32.119444  4.366941e-07  4.361297e-07  4.364119e-07  1.091149e+07  "
      ]
     },
     "execution_count": 17,
     "metadata": {},
     "output_type": "execute_result"
    }
   ],
   "source": [
    "H_df"
   ]
  },
  {
   "cell_type": "markdown",
   "metadata": {},
   "source": [
    "## Rydberg Constant for Deuterium ##"
   ]
  },
  {
   "cell_type": "markdown",
   "metadata": {},
   "source": [
    "All done using the same methofds as for hydrogen"
   ]
  },
  {
   "cell_type": "code",
   "execution_count": 18,
   "metadata": {},
   "outputs": [],
   "source": [
    "D_df = pd.DataFrame({'n': [3, 4, 5], 'H_line': ['H_a', 'H_b', 'H_c'], 'primaryr': [23+(19+2/3)/60, 17+(7+2/3)/60, 15+19/60], 'primaryl': [360-(336+13/60), 360-(342.5+11/60), 360-(344.5+10/60)], 'secondaryr': [51.5+(3+1/3)/60, 35.5+(12+2/3)/60, 31.5+4/60], 'secondaryl': [360-(305+10/60), 360-(323+4/60), 360-(327.5+9/60)]})"
   ]
  },
  {
   "cell_type": "code",
   "execution_count": 19,
   "metadata": {},
   "outputs": [],
   "source": [
    "e_dcpr = 1/60\n",
    "e_dcpl = 0.5/60\n",
    "e_dbpr = 0.5/60\n",
    "e_dbpl = 0.5/60\n",
    "e_dapr = 0.5/60\n",
    "e_dapl = 0.5/60\n",
    "\n",
    "e_dcsr = 1/60\n",
    "e_dcsl = 3/60\n",
    "e_dbsr = 1/60\n",
    "e_dbsl = 0.5/60\n",
    "e_dasr = 0.5/60\n",
    "e_dasl = 0.5/60"
   ]
  },
  {
   "cell_type": "code",
   "execution_count": 20,
   "metadata": {},
   "outputs": [],
   "source": [
    "def avg(x, y):\n",
    "    return (x + y)/2\n",
    "\n",
    "def offset(x, y):\n",
    "    a = (x - y)/2\n",
    "    offset = y - a\n",
    "    return (x + offset)/2\n",
    "\n",
    "D_df['prim_a'] = offset(D_df['primaryr'], D_df['primaryl'])\n",
    "D_df['sec_a'] = offset(D_df['secondaryr'], D_df['secondaryl'])\n",
    "\n",
    "e_dcp = avg(e_dcpr, e_dcpl)\n",
    "e_dbp = avg(e_dbpr, e_dbpl)\n",
    "e_dap = avg(e_dapr, e_dapl)\n",
    "\n",
    "e_dcs = avg(e_dcsr, e_dcsl)\n",
    "e_dbs = avg(e_dbsr, e_dbsl)\n",
    "e_das = avg(e_dasr, e_dasl)"
   ]
  },
  {
   "cell_type": "code",
   "execution_count": 21,
   "metadata": {},
   "outputs": [],
   "source": [
    "def wavelength(d, t, n):\n",
    "    return d*np.sin(np.radians(t))/n\n",
    "\n",
    "D_df['lambdap'] = wavelength(1/(d*1000), D_df['prim_a'], 1)\n",
    "D_df['lambdas'] = wavelength(1/(d*1000), D_df['sec_a'], 2)\n",
    "\n",
    "e_ldap = wavelength(1/((d-e_d)*1000), 23.555556+e_dap, 1)-wavelength(1/(d*1000), 23.555556, 1)\n",
    "e_ldbp = wavelength(1/((d-e_d)*1000), 17.222222+e_dbp, 1)-wavelength(1/(d*1000), 17.222222, 1)\n",
    "e_ldcp = wavelength(1/((d-e_d)*1000), 15.32500+e_dcp, 1)-wavelength(1/(d*1000), 15.32500, 1)\n",
    "\n",
    "e_ldas = wavelength(1/((d-e_d)*1000), 53.194444+e_das, 1)-wavelength(1/(d*1000), 53.194444, 1)\n",
    "e_ldbs = wavelength(1/((d-e_d)*1000), 36.322222+e_dbs, 1)-wavelength(1/(d*1000), 36.322222, 1)\n",
    "e_ldcs = wavelength(1/((d-e_d)*1000), 31.958333+e_dcs, 1)-wavelength(1/(d*1000), 31.958333, 1)"
   ]
  },
  {
   "cell_type": "code",
   "execution_count": 22,
   "metadata": {},
   "outputs": [],
   "source": [
    "D_df['lambda'] = (D_df['lambdap'] + D_df['lambdas'])/2\n",
    "\n",
    "e_lda = (e_ldap + e_ldas)/2\n",
    "e_ldb = (e_ldbp + e_ldbs)/2\n",
    "e_ldc = (e_ldcp + e_ldcs)/2"
   ]
  },
  {
   "cell_type": "code",
   "execution_count": 23,
   "metadata": {},
   "outputs": [],
   "source": [
    "def ryd(n_i, n_f, l):\n",
    "    a = 1/(n_f**2) - 1/(n_i**2)\n",
    "    return 1/(a*l)\n",
    "\n",
    "D_df['R_value'] = ryd(D_df['n'], 2, D_df['lambda'])\n",
    "\n",
    "e_dra = ryd(3, 2, 6.562007e-07-e_lda)-ryd(3, 2, 6.562007e-07)\n",
    "e_drb = ryd(4, 2, 4.858019e-07-e_ldb)-ryd(4, 2, 4.858019e-07)\n",
    "e_drc = ryd(5, 2, 4.338814e-07-e_ldc)-ryd(5, 2, 4.338814e-07)"
   ]
  },
  {
   "cell_type": "code",
   "execution_count": 24,
   "metadata": {},
   "outputs": [],
   "source": [
    "R_D = (1.088970e+07 + 1.092434e+07 + 1.094371e+07)/3\n",
    "\n",
    "e_dr = (e_dra + e_drb + e_drc)/3"
   ]
  },
  {
   "cell_type": "code",
   "execution_count": 25,
   "metadata": {},
   "outputs": [
    {
     "data": {
      "text/plain": [
       "10919250.0"
      ]
     },
     "execution_count": 25,
     "metadata": {},
     "output_type": "execute_result"
    }
   ],
   "source": [
    "R_D"
   ]
  },
  {
   "cell_type": "code",
   "execution_count": 26,
   "metadata": {},
   "outputs": [
    {
     "data": {
      "text/plain": [
       "7828.602296501398"
      ]
     },
     "execution_count": 26,
     "metadata": {},
     "output_type": "execute_result"
    }
   ],
   "source": [
    "e_dr"
   ]
  },
  {
   "cell_type": "code",
   "execution_count": 27,
   "metadata": {},
   "outputs": [
    {
     "data": {
      "text/html": [
       "<div>\n",
       "<style scoped>\n",
       "    .dataframe tbody tr th:only-of-type {\n",
       "        vertical-align: middle;\n",
       "    }\n",
       "\n",
       "    .dataframe tbody tr th {\n",
       "        vertical-align: top;\n",
       "    }\n",
       "\n",
       "    .dataframe thead th {\n",
       "        text-align: right;\n",
       "    }\n",
       "</style>\n",
       "<table border=\"1\" class=\"dataframe\">\n",
       "  <thead>\n",
       "    <tr style=\"text-align: right;\">\n",
       "      <th></th>\n",
       "      <th>n</th>\n",
       "      <th>H_line</th>\n",
       "      <th>primaryr</th>\n",
       "      <th>primaryl</th>\n",
       "      <th>secondaryr</th>\n",
       "      <th>secondaryl</th>\n",
       "      <th>prim_a</th>\n",
       "      <th>sec_a</th>\n",
       "      <th>lambdap</th>\n",
       "      <th>lambdas</th>\n",
       "      <th>lambda</th>\n",
       "      <th>R_value</th>\n",
       "    </tr>\n",
       "  </thead>\n",
       "  <tbody>\n",
       "    <tr>\n",
       "      <th>0</th>\n",
       "      <td>3</td>\n",
       "      <td>H_a</td>\n",
       "      <td>23.327778</td>\n",
       "      <td>23.783333</td>\n",
       "      <td>51.555556</td>\n",
       "      <td>54.833333</td>\n",
       "      <td>23.669444</td>\n",
       "      <td>54.013889</td>\n",
       "      <td>6.586157e-07</td>\n",
       "      <td>6.637347e-07</td>\n",
       "      <td>6.611752e-07</td>\n",
       "      <td>1.088970e+07</td>\n",
       "    </tr>\n",
       "    <tr>\n",
       "      <th>1</th>\n",
       "      <td>4</td>\n",
       "      <td>H_b</td>\n",
       "      <td>17.127778</td>\n",
       "      <td>17.316667</td>\n",
       "      <td>35.711111</td>\n",
       "      <td>36.933333</td>\n",
       "      <td>17.269444</td>\n",
       "      <td>36.627778</td>\n",
       "      <td>4.870240e-07</td>\n",
       "      <td>4.893887e-07</td>\n",
       "      <td>4.882063e-07</td>\n",
       "      <td>1.092434e+07</td>\n",
       "    </tr>\n",
       "    <tr>\n",
       "      <th>2</th>\n",
       "      <td>5</td>\n",
       "      <td>H_c</td>\n",
       "      <td>15.316667</td>\n",
       "      <td>15.333333</td>\n",
       "      <td>31.566667</td>\n",
       "      <td>32.350000</td>\n",
       "      <td>15.329167</td>\n",
       "      <td>32.154167</td>\n",
       "      <td>4.337034e-07</td>\n",
       "      <td>4.365507e-07</td>\n",
       "      <td>4.351270e-07</td>\n",
       "      <td>1.094371e+07</td>\n",
       "    </tr>\n",
       "  </tbody>\n",
       "</table>\n",
       "</div>"
      ],
      "text/plain": [
       "   n H_line   primaryr   primaryl  secondaryr  secondaryl     prim_a  \\\n",
       "0  3    H_a  23.327778  23.783333   51.555556   54.833333  23.669444   \n",
       "1  4    H_b  17.127778  17.316667   35.711111   36.933333  17.269444   \n",
       "2  5    H_c  15.316667  15.333333   31.566667   32.350000  15.329167   \n",
       "\n",
       "       sec_a       lambdap       lambdas        lambda       R_value  \n",
       "0  54.013889  6.586157e-07  6.637347e-07  6.611752e-07  1.088970e+07  \n",
       "1  36.627778  4.870240e-07  4.893887e-07  4.882063e-07  1.092434e+07  \n",
       "2  32.154167  4.337034e-07  4.365507e-07  4.351270e-07  1.094371e+07  "
      ]
     },
     "execution_count": 27,
     "metadata": {},
     "output_type": "execute_result"
    }
   ],
   "source": [
    "D_df"
   ]
  },
  {
   "cell_type": "markdown",
   "metadata": {},
   "source": [
    "## Reduced Mass Calculation ##"
   ]
  },
  {
   "cell_type": "code",
   "execution_count": 28,
   "metadata": {},
   "outputs": [],
   "source": [
    "#define accepted constants\n",
    "e0 = 8.8541878128e-12\n",
    "h = 6.62607015e-34\n",
    "c = 2.99792458e+08\n",
    "e = 1.6021766208e-19\n",
    "\n",
    "#convert to reduced mass using rydberg formula\n",
    "H_rm = (R_H*8*(e0**2)*(h**3)*c)/(e**4)\n",
    "D_rm = (R_D*8*(e0**2)*(h**3)*c)/(e**4)\n",
    "\n",
    "e_hrm = ((R_H+e_hr)*8*(e0**2)*(h**3)*c)/(e**4)-(R_H*8*(e0**2)*(h**3)*c)/(e**4)\n",
    "e_drm = ((R_D+e_dr)*8*(e0**2)*(h**3)*c)/(e**4)-(R_D*8*(e0**2)*(h**3)*c)/(e**4)"
   ]
  },
  {
   "cell_type": "code",
   "execution_count": 29,
   "metadata": {},
   "outputs": [],
   "source": [
    "#defining accepted values\n",
    "mp = 1.67262e-27\n",
    "mn = 1.67493e-27\n",
    "\n",
    "#convert reduced mass to electron mass\n",
    "me_H = (1/H_rm - 1/mp)**-1\n",
    "me_D = (1/D_rm - 1/(mp+mn))**-1\n",
    "\n",
    "e_meh = (1/(H_rm+e_hrm) - 1/mp)**-1 - (1/H_rm - 1/mp)**-1\n",
    "e_med = (1/(D_rm+e_drm) - 1/mp)**-1 - (1/D_rm - 1/mp)**-1"
   ]
  },
  {
   "cell_type": "code",
   "execution_count": 30,
   "metadata": {},
   "outputs": [],
   "source": [
    "#finding electron mass average\n",
    "me = avg(me_H, me_D)\n",
    "\n",
    "e_me = avg(e_meh, e_med)"
   ]
  },
  {
   "cell_type": "code",
   "execution_count": 31,
   "metadata": {},
   "outputs": [
    {
     "data": {
      "text/plain": [
       "9.08685119833769e-31"
      ]
     },
     "execution_count": 31,
     "metadata": {},
     "output_type": "execute_result"
    }
   ],
   "source": [
    "me"
   ]
  },
  {
   "cell_type": "code",
   "execution_count": 32,
   "metadata": {
    "scrolled": true
   },
   "outputs": [
    {
     "data": {
      "text/plain": [
       "8.668674361125899e-34"
      ]
     },
     "execution_count": 32,
     "metadata": {},
     "output_type": "execute_result"
    }
   ],
   "source": [
    "e_me"
   ]
  },
  {
   "cell_type": "markdown",
   "metadata": {},
   "source": [
    "## Rydberg Constant for Helium ##"
   ]
  },
  {
   "cell_type": "markdown",
   "metadata": {},
   "source": [
    "All done the same as for hydrogen but with no secondary lines"
   ]
  },
  {
   "cell_type": "code",
   "execution_count": 33,
   "metadata": {},
   "outputs": [],
   "source": [
    "He_df = pd.DataFrame({'He_line': ['He_violet', 'He_indigo', 'He_green1', 'He_green2', 'He_orange', 'He_red1', 'He_red2'], 'primaryr': [15.5+29/90, 16.5+31/180, 17+25/60, 17.5+53/180, 20.5+19/45, 24+1/90, 25+5/36], 'primaryl': [360-(344+2/9), 360-(343+14/45), 360-(342.5+4/45), 360-(342+14/60), 360-(339+5/60), 360-(336+7/90), 360-(334.5+1/9)]})"
   ]
  },
  {
   "cell_type": "code",
   "execution_count": 34,
   "metadata": {},
   "outputs": [],
   "source": [
    "e_hevr = 4.5/60\n",
    "e_heir = 0.5/60\n",
    "e_heg1r = 0.5/60\n",
    "e_heg2r = 0.5/60\n",
    "e_heor = 0.5/60\n",
    "e_her1r = 0.5/60\n",
    "e_her2r = 2.5/60\n",
    "\n",
    "e_hevl = 1.5/60\n",
    "e_heil = 0.5/60\n",
    "e_heg1l = 0.5/60\n",
    "e_heg2l = 1/60\n",
    "e_heol = 0.5/60\n",
    "e_her1l = 0.5/60\n",
    "e_her2l = 0.5/60"
   ]
  },
  {
   "cell_type": "code",
   "execution_count": 35,
   "metadata": {},
   "outputs": [],
   "source": [
    "He_df['prim_a'] = offset(He_df['primaryr'], He_df['primaryl'])\n",
    "\n",
    "e_hev = avg(e_hevr, e_hevl)\n",
    "e_hei = avg(e_heir, e_heil)\n",
    "e_heg1 = avg(e_heg1r, e_heg1l)\n",
    "e_heg2 = avg(e_heg2r, e_heg2l)\n",
    "e_heo = avg(e_heor, e_heol)\n",
    "e_her1 = avg(e_her1r, e_her1l)\n",
    "e_her2 = avg(e_her2r, e_her2l)"
   ]
  },
  {
   "cell_type": "code",
   "execution_count": 36,
   "metadata": {},
   "outputs": [],
   "source": [
    "He_df['lambda'] = wavelength(1/(d*1000), He_df['prim_a'], 1)\n",
    "\n",
    "e_lhev = wavelength(1/((d-e_d)*1000), 15.788889+e_hev, 1)-wavelength(1/(d*1000), 15.788889, 1)\n",
    "e_lhei = wavelength(1/((d-e_d)*1000), 16.684722+e_hei, 1)-wavelength(1/(d*1000), 16.684722, 1)\n",
    "e_lheg1 = wavelength(1/((d-e_d)*1000), 17.412500+e_heg1, 1)-wavelength(1/(d*1000), 17.412500, 1)\n",
    "e_lheg2 = wavelength(1/((d-e_d)*1000), 17.773611+e_heg2, 1)-wavelength(1/(d*1000), 17.773611, 1)\n",
    "e_lheo = wavelength(1/((d-e_d)*1000), 20.918056+e_heo, 1)-wavelength(1/(d*1000), 20.918056, 1)\n",
    "e_lher1 = wavelength(1/((d-e_d)*1000), 23.944444+e_her1, 1)-wavelength(1/(d*1000), 23.944444, 1)\n",
    "e_lher2 = wavelength(1/((d-e_d)*1000), 25.326389+e_her2, 1)-wavelength(1/(d*1000), 25.326389, 1)"
   ]
  },
  {
   "cell_type": "code",
   "execution_count": 37,
   "metadata": {},
   "outputs": [
    {
     "data": {
      "text/html": [
       "<div>\n",
       "<style scoped>\n",
       "    .dataframe tbody tr th:only-of-type {\n",
       "        vertical-align: middle;\n",
       "    }\n",
       "\n",
       "    .dataframe tbody tr th {\n",
       "        vertical-align: top;\n",
       "    }\n",
       "\n",
       "    .dataframe thead th {\n",
       "        text-align: right;\n",
       "    }\n",
       "</style>\n",
       "<table border=\"1\" class=\"dataframe\">\n",
       "  <thead>\n",
       "    <tr style=\"text-align: right;\">\n",
       "      <th></th>\n",
       "      <th>He_line</th>\n",
       "      <th>primaryr</th>\n",
       "      <th>primaryl</th>\n",
       "      <th>prim_a</th>\n",
       "      <th>lambda</th>\n",
       "    </tr>\n",
       "  </thead>\n",
       "  <tbody>\n",
       "    <tr>\n",
       "      <th>0</th>\n",
       "      <td>He_violet</td>\n",
       "      <td>15.822222</td>\n",
       "      <td>15.777778</td>\n",
       "      <td>15.788889</td>\n",
       "      <td>4.463842e-07</td>\n",
       "    </tr>\n",
       "    <tr>\n",
       "      <th>1</th>\n",
       "      <td>He_indigo</td>\n",
       "      <td>16.672222</td>\n",
       "      <td>16.688889</td>\n",
       "      <td>16.684722</td>\n",
       "      <td>4.710113e-07</td>\n",
       "    </tr>\n",
       "    <tr>\n",
       "      <th>2</th>\n",
       "      <td>He_green1</td>\n",
       "      <td>17.416667</td>\n",
       "      <td>17.411111</td>\n",
       "      <td>17.412500</td>\n",
       "      <td>4.909340e-07</td>\n",
       "    </tr>\n",
       "    <tr>\n",
       "      <th>3</th>\n",
       "      <td>He_green2</td>\n",
       "      <td>17.794444</td>\n",
       "      <td>17.766667</td>\n",
       "      <td>17.773611</td>\n",
       "      <td>5.007901e-07</td>\n",
       "    </tr>\n",
       "    <tr>\n",
       "      <th>4</th>\n",
       "      <td>He_orange</td>\n",
       "      <td>20.922222</td>\n",
       "      <td>20.916667</td>\n",
       "      <td>20.918056</td>\n",
       "      <td>5.857308e-07</td>\n",
       "    </tr>\n",
       "    <tr>\n",
       "      <th>5</th>\n",
       "      <td>He_red1</td>\n",
       "      <td>24.011111</td>\n",
       "      <td>23.922222</td>\n",
       "      <td>23.944444</td>\n",
       "      <td>6.658198e-07</td>\n",
       "    </tr>\n",
       "    <tr>\n",
       "      <th>6</th>\n",
       "      <td>He_red2</td>\n",
       "      <td>25.138889</td>\n",
       "      <td>25.388889</td>\n",
       "      <td>25.326389</td>\n",
       "      <td>7.017865e-07</td>\n",
       "    </tr>\n",
       "  </tbody>\n",
       "</table>\n",
       "</div>"
      ],
      "text/plain": [
       "     He_line   primaryr   primaryl     prim_a        lambda\n",
       "0  He_violet  15.822222  15.777778  15.788889  4.463842e-07\n",
       "1  He_indigo  16.672222  16.688889  16.684722  4.710113e-07\n",
       "2  He_green1  17.416667  17.411111  17.412500  4.909340e-07\n",
       "3  He_green2  17.794444  17.766667  17.773611  5.007901e-07\n",
       "4  He_orange  20.922222  20.916667  20.918056  5.857308e-07\n",
       "5    He_red1  24.011111  23.922222  23.944444  6.658198e-07\n",
       "6    He_red2  25.138889  25.388889  25.326389  7.017865e-07"
      ]
     },
     "execution_count": 37,
     "metadata": {},
     "output_type": "execute_result"
    }
   ],
   "source": [
    "He_df"
   ]
  },
  {
   "cell_type": "code",
   "execution_count": 38,
   "metadata": {},
   "outputs": [],
   "source": [
    "He_rm = (1/(2*mn + 2*mp) + 1/me)**-1\n",
    "e_Herm = (1/(2*mn + 2*mp) + 1/(me+e_me))**-1 - (1/(2*mn + 2*mp) + 1/me)**-1\n",
    "          \n",
    "R_He = (e**4)*He_rm/(8*(e0**2)*(h**3)*c)\n",
    "e_rhe = (e**4)*(He_rm+e_Herm)/(8*(e0**2)*(h**3)*c) - (e**4)*He_rm/(8*(e0**2)*(h**3)*c)"
   ]
  },
  {
   "cell_type": "code",
   "execution_count": 39,
   "metadata": {},
   "outputs": [
    {
     "data": {
      "text/plain": [
       "10945101.63719641"
      ]
     },
     "execution_count": 39,
     "metadata": {},
     "output_type": "execute_result"
    }
   ],
   "source": [
    "R_He"
   ]
  },
  {
   "cell_type": "markdown",
   "metadata": {},
   "source": [
    "## Predicted Balmer Series for Helium ##"
   ]
  },
  {
   "cell_type": "code",
   "execution_count": 40,
   "metadata": {},
   "outputs": [],
   "source": [
    "#convert rydberg to wavelength, inverse of formula defined when converting wavelength to rydberg\n",
    "def balmer(n_i, r):\n",
    "    a = 1/4 - 1/(n_i**2)\n",
    "    b = r*a*4\n",
    "    return 1/b\n",
    "\n",
    "#find balmer series for helium using our rydberg constant\n",
    "Ba_1 = balmer(3, R_He)\n",
    "Ba_2 = balmer(4, R_He)\n",
    "Ba_3 = balmer(5, R_He)\n",
    "\n",
    "e_ba1 = balmer(3, R_He-e_rhe) - balmer(3, R_He)\n",
    "e_ba2 = balmer(4, R_He-e_rhe) - balmer(4, R_He)\n",
    "e_ba3 = balmer(5, R_He-e_rhe) - balmer(5, R_He)"
   ]
  },
  {
   "cell_type": "code",
   "execution_count": 41,
   "metadata": {},
   "outputs": [],
   "source": [
    "#actual balmer series with accepted rydberg for helium\n",
    "He_1 = balmer(3, 1.09722267e+07)\n",
    "He_2 = balmer(4, 1.09722267e+07)\n",
    "He_3 = balmer(5, 1.09722267e+07)"
   ]
  },
  {
   "cell_type": "code",
   "execution_count": null,
   "metadata": {},
   "outputs": [],
   "source": []
  }
 ],
 "metadata": {
  "kernelspec": {
   "display_name": "Python 3",
   "language": "python",
   "name": "python3"
  },
  "language_info": {
   "codemirror_mode": {
    "name": "ipython",
    "version": 3
   },
   "file_extension": ".py",
   "mimetype": "text/x-python",
   "name": "python",
   "nbconvert_exporter": "python",
   "pygments_lexer": "ipython3",
   "version": "3.8.3"
  }
 },
 "nbformat": 4,
 "nbformat_minor": 4
}
